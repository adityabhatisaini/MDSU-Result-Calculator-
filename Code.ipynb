{
 "cells": [
  {
   "cell_type": "code",
   "execution_count": 7,
   "metadata": {},
   "outputs": [
    {
     "name": "stdout",
     "output_type": "stream",
     "text": [
      "Final percentage is:100.0\n"
     ]
    }
   ],
   "source": [
    "# define all codes in the particular function\n",
    "def bsc_3(obt_mks):\n",
    "    total_mks=2025\n",
    "    cal_per= round(obt_mks/(total_mks/100),2)\n",
    "    return f'Final percentage is:{cal_per}'\n",
    "\n",
    "user_input=int(input('Enter your obtained marks'))\n",
    "print(bsc_3(user_input))\n"
   ]
  }
 ],
 "metadata": {
  "kernelspec": {
   "display_name": "base",
   "language": "python",
   "name": "python3"
  },
  "language_info": {
   "codemirror_mode": {
    "name": "ipython",
    "version": 3
   },
   "file_extension": ".py",
   "mimetype": "text/x-python",
   "name": "python",
   "nbconvert_exporter": "python",
   "pygments_lexer": "ipython3",
   "version": "3.12.4"
  }
 },
 "nbformat": 4,
 "nbformat_minor": 2
}
